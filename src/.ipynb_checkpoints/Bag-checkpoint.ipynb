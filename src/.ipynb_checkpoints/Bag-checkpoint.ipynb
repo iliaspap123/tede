{
 "cells": [
  {
   "cell_type": "code",
   "execution_count": 1,
   "metadata": {},
   "outputs": [],
   "source": [
    "from pandas import DataFrame, read_csv\n",
    "import pandas as pd #this is how I usually import pandas\n",
    "import matplotlib.pyplot as plt #for plot\n",
    "import nltk\n",
    "#read_csv?\n",
    "Location = r'../twitter_data/train2017.tsv'\n",
    "df = pd.read_csv(Location,delimiter = '\\t',names=['id','id2','tag','text'])\n",
    "#df.text"
   ]
  },
  {
   "cell_type": "code",
   "execution_count": 2,
   "metadata": {},
   "outputs": [],
   "source": [
    "list_tweets = df.text.tolist()"
   ]
  },
  {
   "cell_type": "code",
   "execution_count": 3,
   "metadata": {},
   "outputs": [],
   "source": [
    "from bs4 import BeautifulSoup\n",
    "import re\n",
    "from nltk import word_tokenize\n",
    "from nltk.corpus import stopwords\n",
    "from nltk.stem import StemmerI, RegexpStemmer, LancasterStemmer, ISRIStemmer, PorterStemmer, SnowballStemmer, RSLPStemmer\n",
    "from string import punctuation\n",
    "from nltk.stem import  WordNetLemmatizer\n",
    "from nltk.corpus import wordnet\n",
    "\n",
    "def get_wordnet_pos(word):\n",
    "    \"\"\"Map POS tag to first character lemmatize() accepts\"\"\"\n",
    "    tag = nltk.pos_tag([word])[0][1][0].upper()\n",
    "    tag_dict = {\"J\": wordnet.ADJ,\n",
    "                \"N\": wordnet.NOUN,\n",
    "                \"V\": wordnet.VERB,\n",
    "                \"R\": wordnet.ADV}\n",
    "\n",
    "    return tag_dict.get(tag, wordnet.NOUN)\n",
    "\n",
    "lemmatizer = WordNetLemmatizer()\n",
    "\n",
    "stemmer = PorterStemmer()\n",
    "\n",
    "tweets = df.text.tolist()\n",
    "\n",
    "def clean_text(tweet):\n",
    "    tweet = tweet.lower() \n",
    "    tweet = BeautifulSoup(tweet,'lxml').get_text() \n",
    "    tweet = re.sub(r\"@\\w+\", \"\",tweet) # Remove twitter handle\n",
    "    tweet = re.sub(r\"\\d\", \"\",tweet)   # Remove numbers \n",
    "    tweet = re.sub(r\"_+\", \"\",tweet)   # Remove consecutive underscores\n",
    "    tweet = re.sub(r'@[A-Za-z0-9]+','',tweet)\n",
    "    tweet = re.sub('www.?[A-Za-z0-9./]+','',tweet)\n",
    "    tweet = re.sub('http?[A-Za-z0-9./]+','',tweet)\n",
    "    tweet = re.sub(\"[^a-zA-Z]\", \" \", tweet)\n",
    "    #tweet=tweet.strip(punctuation)\n",
    "    tokens = word_tokenize(tweet)\n",
    "    stems = [  stemmer.stem(token) for token in tokens ]\n",
    "    lemms = [lemmatizer.lemmatize(w, get_wordnet_pos(w)) for w in stems]\n",
    "    filtered = [w for w in lemms if not w in stopwords.words('english')]\n",
    "    tweet = ' '.join(filtered)\n",
    "    return tweet"
   ]
  },
  {
   "cell_type": "code",
   "execution_count": null,
   "metadata": {},
   "outputs": [],
   "source": [
    "new_tweets = []\n",
    "for tweet in list_tweets:\n",
    "    new_tweets.append(clean_text(tweet))\n",
    "    \n",
    "#print(new_tweets)"
   ]
  },
  {
   "cell_type": "code",
   "execution_count": 3,
   "metadata": {},
   "outputs": [],
   "source": [
    "from sklearn.feature_extraction.text import CountVectorizer\n",
    "bow_vectorizer = CountVectorizer(max_df=1.0, min_df=1, max_features=100, stop_words='english') \n",
    "bow_xtrain = bow_vectorizer.fit_transform(list_tweets)\n",
    "#print(bow_vectorizer.get_feature_names())\n",
    "#print(bow_xtrain.shape)\n",
    "#print(bow_xtrain.toarray())"
   ]
  },
  {
   "cell_type": "code",
   "execution_count": 4,
   "metadata": {},
   "outputs": [],
   "source": [
    "from sklearn.neighbors import KNeighborsClassifier\n",
    "knn = KNeighborsClassifier(n_neighbors=1)\n",
    "#print(knn)"
   ]
  },
  {
   "cell_type": "code",
   "execution_count": 5,
   "metadata": {},
   "outputs": [
    {
     "data": {
      "text/plain": [
       "KNeighborsClassifier(algorithm='auto', leaf_size=30, metric='minkowski',\n",
       "           metric_params=None, n_jobs=1, n_neighbors=1, p=2,\n",
       "           weights='uniform')"
      ]
     },
     "execution_count": 5,
     "metadata": {},
     "output_type": "execute_result"
    }
   ],
   "source": [
    "arr = bow_xtrain.toarray()\n",
    "iris_X = arr\n",
    "iris_Y = df.tag\n",
    "knn.fit(iris_X , iris_Y)"
   ]
  },
  {
   "cell_type": "code",
   "execution_count": 6,
   "metadata": {},
   "outputs": [],
   "source": [
    "Location = r'../twitter_data/test2017.tsv'\n",
    "df_test = pd.read_csv(Location,delimiter = '\\t',names=['id','id2','tag','text'])\n",
    "df_test.text\n",
    "list_tweets_test = df_test.text.tolist()\n",
    "#print(list_tweets_test)\n",
    "bow_xtest = bow_vectorizer.fit_transform(list_tweets_test)\n",
    "arr_test = bow_xtest.toarray()\n",
    "#print(arr_test)\n",
    "result = knn.predict(arr_test)"
   ]
  },
  {
   "cell_type": "code",
   "execution_count": 7,
   "metadata": {},
   "outputs": [
    {
     "name": "stdout",
     "output_type": "stream",
     "text": [
      "0.3191142950179095\n"
     ]
    }
   ],
   "source": [
    "from sklearn import metrics\n",
    "Location = r'../twitter_data/SemEval2017_task4_subtaskA_test_english_gold.txt'\n",
    "df_gold = pd.read_csv(Location,delimiter = '\\t',names=['id','tag'])\n",
    "\n",
    "print(metrics.accuracy_score(result, df_gold.tag))"
   ]
  },
  {
   "cell_type": "code",
   "execution_count": null,
   "metadata": {},
   "outputs": [],
   "source": []
  }
 ],
 "metadata": {
  "kernelspec": {
   "display_name": "Python 2",
   "language": "python",
   "name": "python2"
  },
  "language_info": {
   "codemirror_mode": {
    "name": "ipython",
    "version": 2
   },
   "file_extension": ".py",
   "mimetype": "text/x-python",
   "name": "python",
   "nbconvert_exporter": "python",
   "pygments_lexer": "ipython2",
   "version": "2.7.14"
  }
 },
 "nbformat": 4,
 "nbformat_minor": 2
}
