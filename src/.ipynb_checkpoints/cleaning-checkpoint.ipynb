{
 "cells": [
  {
   "cell_type": "code",
   "execution_count": 1,
   "metadata": {},
   "outputs": [
    {
     "data": {
      "text/plain": [
       "0     Gas by my house hit $3.39!!!! I'm going to Cha...\n",
       "1     Theo Walcott is still shit, watch Rafa and Joh...\n",
       "2     its not that I'm a GSP fan, i just hate Nick D...\n",
       "3     Iranian general says Israel's Iron Dome can't ...\n",
       "4     Tehran, Mon Amour: Obama Tried to Establish Ti...\n",
       "5     I sat through this whole movie just for Harry ...\n",
       "6     with J Davlar 11th. Main rivals are team Polan...\n",
       "7     Talking about ACT's && SAT's, deciding where I...\n",
       "8     Why is \\\"\"Happy Valentines Day\\\"\" trending? It...\n",
       "9     They may have a SuperBowl in Dallas, but Dalla...\n",
       "10    Im bringing the monster load of candy tomorrow...\n",
       "11    Apple software, retail chiefs out in overhaul:...\n",
       "12    @oluoch @victor_otti @kunjand I just watched i...\n",
       "13    One of my best 8th graders Kory was excited af...\n",
       "14    #Livewire Nadal confirmed for Mexican Open in ...\n",
       "15    @MsSheLahY I didnt want to just pop up... but ...\n",
       "16    @Alyoup005 @addicted2haley hmmmm  November is ...\n",
       "17    #Iran US delisting MKO from global terrorists ...\n",
       "18    @JackStirling serge is amazing... like hes act...\n",
       "19    @HatersgonnHate_ @HAMlikeHussain @Ramythe3lite...\n",
       "20    Good Morning Becky ! Thursday is going to be F...\n",
       "21    Expect light-moderate rains over E. Visayas; C...\n",
       "22    One ticket left for the @49ers game tomorrow! ...\n",
       "23    AFC away fans on Saturday. All this stuff abou...\n",
       "24    My Saturday night has consisted of me watching...\n",
       "25    Why is it so hard to find the @TVGuideMagazine...\n",
       "26    Game 1 of the NLCS and a rematch of the NFC Ch...\n",
       "27    James hall LIVE in Indianapolis Dec.8th.. CHRI...\n",
       "28    @TrevorJavier the heat game may cost alot more...\n",
       "29    Never start working on your dreams and goals t...\n",
       "Name: text, dtype: object"
      ]
     },
     "execution_count": 1,
     "metadata": {},
     "output_type": "execute_result"
    }
   ],
   "source": [
    "from pandas import DataFrame, read_csv\n",
    "import pandas as pd #this is how I usually import pandas\n",
    "import matplotlib.pyplot as plt #for plot\n",
    "import nltk\n",
    "#read_csv?\n",
    "Location = r'../twitter_data/train2017.tsv'\n",
    "df = pd.read_csv(Location,delimiter = '\\t',nrows=30,names=['id','id2','tag','text'])\n",
    "df.text"
   ]
  },
  {
   "cell_type": "code",
   "execution_count": 97,
   "metadata": {},
   "outputs": [
    {
     "data": {
      "text/plain": [
       "u'never start working pyour dreams goals tomor row tomorrow never comes means anything u act getafterit'"
      ]
     },
     "execution_count": 97,
     "metadata": {},
     "output_type": "execute_result"
    }
   ],
   "source": [
    "from bs4 import BeautifulSoup\n",
    "import re\n",
    "from nltk import word_tokenize\n",
    "from nltk.corpus import stopwords\n",
    "from nltk.stem import StemmerI, RegexpStemmer, LancasterStemmer, ISRIStemmer, PorterStemmer, SnowballStemmer, RSLPStemmer\n",
    "from string import punctuation\n",
    "from nltk.corpus import wordnet\n",
    "\n",
    "def get_wordnet_pos(word):\n",
    "    \"\"\"Map POS tag to first character lemmatize() accepts\"\"\"\n",
    "    tag = nltk.pos_tag([word])[0][1][0].upper()\n",
    "    tag_dict = {\"J\": wordnet.ADJ,\n",
    "                \"N\": wordnet.NOUN,\n",
    "                \"V\": wordnet.VERB,\n",
    "                \"R\": wordnet.ADV}\n",
    "\n",
    "    return tag_dict.get(tag, wordnet.NOUN)\n",
    "\n",
    "lemmatizer = WordNetLemmatizer()\n",
    "\n",
    "stemmer = PorterStemmer()\n",
    "\n",
    "tweets = df.text.tolist()\n",
    "\n",
    "def clean_text(tweet):\n",
    "    tweet = tweet.lower() \n",
    "    tweet = BeautifulSoup(tweet,'lxml').get_text() \n",
    "    tweet = re.sub(r\"@\\w+\", \"\",tweet) # Remove twitter handle\n",
    "    #tweet = re.sub(r\"\\d\", \"\",tweet)   # Remove numbers \n",
    "    #tweet = re.sub(r\"_+\", \"\",tweet)   # Remove consecutive underscores\n",
    "    tweet = re.sub(r'@[A-Za-z0-9]+','',tweet)\n",
    "    tweet = re.sub('www.?[A-Za-z0-9./]+','',tweet)\n",
    "    tweet = re.sub('http?[A-Za-z0-9./]+','',tweet)\n",
    "    tweet = re.sub(\"[^a-zA-Z]\", \" \", tweet)\n",
    "    #tweet=tweet.strip(punctuation)\n",
    "    tokens = word_tokenize(tweet)\n",
    "    stems = [  stemmer.stem(token) for token in tokens ]\n",
    "    filtered = [w for w in tokens if not w in stopwords.words('english')]\n",
    "    tweet = ' '.join(filtered)\n",
    "    return tweet\n",
    "\n",
    "#new_tweets = []\n",
    "#for tweet in tweets:\n",
    "    #new_tweets.append(clean_text(tweet))\n",
    "\n",
    "tweet = 'Never start and <h>working on http:pyour dreams and goals tomor678row......tomorrow never comes....if it means anything to U, ACT NOW! #getafterit'\n",
    "clean_text(tweet)\n",
    "#print(re.sub(\"[^a-zA-Z]\", \" \", 'fefewfwefew #ewcewcew (fewfew) fewfew'))"
   ]
  },
  {
   "cell_type": "code",
   "execution_count": null,
   "metadata": {},
   "outputs": [],
   "source": []
  },
  {
   "cell_type": "code",
   "execution_count": null,
   "metadata": {},
   "outputs": [],
   "source": []
  },
  {
   "cell_type": "code",
   "execution_count": null,
   "metadata": {},
   "outputs": [],
   "source": []
  },
  {
   "cell_type": "code",
   "execution_count": null,
   "metadata": {},
   "outputs": [],
   "source": []
  },
  {
   "cell_type": "code",
   "execution_count": null,
   "metadata": {},
   "outputs": [],
   "source": []
  },
  {
   "cell_type": "code",
   "execution_count": null,
   "metadata": {},
   "outputs": [],
   "source": []
  }
 ],
 "metadata": {
  "kernelspec": {
   "display_name": "Python 2",
   "language": "python",
   "name": "python2"
  },
  "language_info": {
   "codemirror_mode": {
    "name": "ipython",
    "version": 2
   },
   "file_extension": ".py",
   "mimetype": "text/x-python",
   "name": "python",
   "nbconvert_exporter": "python",
   "pygments_lexer": "ipython2",
   "version": "2.7.14"
  }
 },
 "nbformat": 4,
 "nbformat_minor": 2
}
