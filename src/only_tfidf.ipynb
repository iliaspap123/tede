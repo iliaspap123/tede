{
 "cells": [
  {
   "cell_type": "code",
   "execution_count": 1,
   "metadata": {},
   "outputs": [],
   "source": [
    "from pandas import DataFrame, read_csv\n",
    "import pandas as pd #this is how I usually import pandas\n",
    "import matplotlib.pyplot as plt #for plot\n",
    "import nltk\n",
    "#read_csv?\n",
    "Location = r'../twitter_data/train2017.tsv'\n",
    "df = pd.read_csv(Location,delimiter = '\\t',names=['id','id2','tag','text'])\n"
   ]
  },
  {
   "cell_type": "code",
   "execution_count": null,
   "metadata": {},
   "outputs": [],
   "source": []
  },
  {
   "cell_type": "code",
   "execution_count": 2,
   "metadata": {},
   "outputs": [],
   "source": [
    "# Lemmatize with POS Tag\n",
    "from nltk.corpus import wordnet\n",
    "def get_wordnet_pos(word):\n",
    "    \"\"\"Map POS tag to first character lemmatize() accepts\"\"\"\n",
    "    tag = nltk.pos_tag([word])[0][1][0].upper()\n",
    "    tag_dict = {\"J\": wordnet.ADJ,\n",
    "                \"N\": wordnet.NOUN,\n",
    "                \"V\": wordnet.VERB,\n",
    "                \"R\": wordnet.ADV}\n",
    "\n",
    "    return tag_dict.get(tag, wordnet.NOUN)\n",
    "\n",
    "\n",
    "def my_concat(mylist):\n",
    "    str = \"\"\n",
    "    for word in mylist:\n",
    "        str+= \" \"+word\n",
    "    return str\n",
    "\n",
    "from nltk.stem import  WordNetLemmatizer\n",
    "\n",
    "\n",
    "# 1. Init Lemmatizer\n",
    "lemmatizer = WordNetLemmatizer()\n",
    "\n",
    "\n",
    "# 3. Lemmatize a Sentence with the appropriate POS tag\n",
    "list_tweets = []\n",
    "for line in df.text:\n",
    "    kati = my_concat([lemmatizer.lemmatize(w, get_wordnet_pos(w)) for w in nltk.word_tokenize(line)])\n",
    "    list_tweets.append(kati)\n",
    "    #print(kati)"
   ]
  },
  {
   "cell_type": "code",
   "execution_count": 3,
   "metadata": {},
   "outputs": [
    {
     "name": "stdout",
     "output_type": "stream",
     "text": [
      "(27958, 250)\n"
     ]
    }
   ],
   "source": [
    "from sklearn.feature_extraction.text import TfidfVectorizer\n",
    "tfidf_vectorizer = TfidfVectorizer( max_features=250, stop_words='english') \n",
    "tfidf = tfidf_vectorizer.fit_transform(list_tweets)\n",
    "print( tfidf.shape) #the output is a numpy array of features\n",
    "iris_X = tfidf.toarray()"
   ]
  },
  {
   "cell_type": "code",
   "execution_count": 4,
   "metadata": {},
   "outputs": [
    {
     "name": "stdout",
     "output_type": "stream",
     "text": [
      "(12284, 250)\n"
     ]
    }
   ],
   "source": [
    "Location = r'../twitter_data/test2017.tsv'\n",
    "df_res = pd.read_csv(Location,delimiter = '\\t',names=['id','id2','tag','text'])\n",
    "                 \n",
    "res_tweets = []\n",
    "for line_res in df_res.text:\n",
    "    res_tmp = my_concat([lemmatizer.lemmatize(w, get_wordnet_pos(w)) for w in nltk.word_tokenize(line_res)])\n",
    "    res_tweets.append(res_tmp)\n",
    "                     \n",
    "from sklearn.feature_extraction.text import TfidfVectorizer\n",
    "tfidf_vectorizer = TfidfVectorizer( max_features=250, stop_words='english') \n",
    "tfidf = tfidf_vectorizer.fit_transform(res_tweets)\n",
    "print( tfidf.shape) #the output is a numpy array of features\n",
    "                     \n",
    "res_arr = tfidf.toarray()\n"
   ]
  },
  {
   "cell_type": "code",
   "execution_count": 5,
   "metadata": {},
   "outputs": [
    {
     "name": "stdout",
     "output_type": "stream",
     "text": [
      "KNeighborsClassifier(algorithm='auto', leaf_size=30, metric='minkowski',\n",
      "           metric_params=None, n_jobs=None, n_neighbors=3, p=2,\n",
      "           weights='uniform')\n"
     ]
    },
    {
     "data": {
      "text/plain": [
       "KNeighborsClassifier(algorithm='auto', leaf_size=30, metric='minkowski',\n",
       "           metric_params=None, n_jobs=None, n_neighbors=3, p=2,\n",
       "           weights='uniform')"
      ]
     },
     "execution_count": 5,
     "metadata": {},
     "output_type": "execute_result"
    }
   ],
   "source": [
    "from sklearn.neighbors import KNeighborsClassifier\n",
    "knn = KNeighborsClassifier(n_neighbors=3)\n",
    "print(knn)\n",
    "\n",
    "iris_Y = df.tag\n",
    "knn.fit(iris_X , iris_Y)\n",
    "\n"
   ]
  },
  {
   "cell_type": "code",
   "execution_count": 6,
   "metadata": {},
   "outputs": [
    {
     "name": "stdout",
     "output_type": "stream",
     "text": [
      "0.35346792575708236\n"
     ]
    }
   ],
   "source": [
    "from sklearn import metrics\n",
    "\n",
    "result = knn.predict(res_arr)\n",
    "Location = r'../twitter_data/SemEval2017_task4_subtaskA_test_english_gold.txt'\n",
    "df_cor = pd.read_csv(Location,delimiter = '\\t',names=['id','tag'])\n",
    "print(metrics.accuracy_score(result, df_cor.tag))"
   ]
  },
  {
   "cell_type": "code",
   "execution_count": null,
   "metadata": {},
   "outputs": [],
   "source": []
  }
 ],
 "metadata": {
  "kernelspec": {
   "display_name": "Python 3",
   "language": "python",
   "name": "python3"
  },
  "language_info": {
   "codemirror_mode": {
    "name": "ipython",
    "version": 3
   },
   "file_extension": ".py",
   "mimetype": "text/x-python",
   "name": "python",
   "nbconvert_exporter": "python",
   "pygments_lexer": "ipython3",
   "version": "3.7.3"
  }
 },
 "nbformat": 4,
 "nbformat_minor": 2
}
