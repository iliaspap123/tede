{
 "cells": [
  {
   "cell_type": "code",
   "execution_count": 1,
   "metadata": {
    "scrolled": true
   },
   "outputs": [
    {
     "data": {
      "text/html": [
       "\n",
       "<style>\n",
       ".button {\n",
       "    background-color: #008CBA;;\n",
       "    border: none;\n",
       "    color: white;\n",
       "    padding: 8px 22px;\n",
       "    text-align: center;\n",
       "    text-decoration: none;\n",
       "    display: inline-block;\n",
       "    font-size: 16px;\n",
       "    margin: 4px 2px;\n",
       "    cursor: pointer;\n",
       "}\n",
       "</style>\n",
       " <script>\n",
       "   // Assume 3 input cells. Manage from here.\n",
       "   var divTag0 = document.getElementsByClassName(\"input\")[0]\n",
       "   var displaySetting0 = divTag0.style.display;\n",
       "   // Default display - set to 'none'.  To hide, set to 'block'.\n",
       "   // divTag0.style.display = 'block';\n",
       "   divTag0.style.display = 'none';\n",
       "   \n",
       "   var divTag1 = document.getElementsByClassName(\"input\")[1]\n",
       "   var displaySetting1 = divTag1.style.display;\n",
       "   // Default display - set to 'none'.  To hide, set to 'block'.\n",
       "      divTag1.style.display = 'block';\n",
       "   //divTag1.style.display = 'none';\n",
       "   \n",
       "   var divTag2 = document.getElementsByClassName(\"input\")[2]\n",
       "   var displaySetting2 = divTag2.style.display;\n",
       "   // Default display - set to 'none'.  To hide, set to 'none'.\n",
       "   divTag2.style.display = 'block';\n",
       "   //divTag2.style.display = 'none';\n",
       " \n",
       "    function toggleInput(i) { \n",
       "      var divTag = document.getElementsByClassName(\"input\")[i]\n",
       "      var displaySetting = divTag.style.display;\n",
       "     \n",
       "      if (displaySetting == 'block') { \n",
       "         divTag.style.display = 'none';\n",
       "       }\n",
       "      else { \n",
       "         divTag.style.display = 'block';\n",
       "       } \n",
       "  }  \n",
       "  </script>\n",
       "  <!-- <button onclick=\"javascript:toggleInput(0)\" class=\"button\">Show Code</button> -->\n"
      ],
      "text/plain": [
       "<IPython.core.display.HTML object>"
      ]
     },
     "metadata": {},
     "output_type": "display_data"
    },
    {
     "name": "stdout",
     "output_type": "stream",
     "text": [
      "Code above produced me...click Shows Code to see it.\n"
     ]
    }
   ],
   "source": [
    "from IPython.display import HTML\n",
    "from IPython.display import display\n",
    "baseCodeHide=\"\"\"\n",
    "<style>\n",
    ".button {\n",
    "    background-color: #008CBA;;\n",
    "    border: none;\n",
    "    color: white;\n",
    "    padding: 8px 22px;\n",
    "    text-align: center;\n",
    "    text-decoration: none;\n",
    "    display: inline-block;\n",
    "    font-size: 16px;\n",
    "    margin: 4px 2px;\n",
    "    cursor: pointer;\n",
    "}\n",
    "</style>\n",
    " <script>\n",
    "   // Assume 3 input cells. Manage from here.\n",
    "   var divTag0 = document.getElementsByClassName(\"input\")[0]\n",
    "   var displaySetting0 = divTag0.style.display;\n",
    "   // Default display - set to 'none'.  To hide, set to 'block'.\n",
    "   // divTag0.style.display = 'block';\n",
    "   divTag0.style.display = 'none';\n",
    "   \n",
    "   var divTag1 = document.getElementsByClassName(\"input\")[1]\n",
    "   var displaySetting1 = divTag1.style.display;\n",
    "   // Default display - set to 'none'.  To hide, set to 'block'.\n",
    "      divTag1.style.display = 'block';\n",
    "   //divTag1.style.display = 'none';\n",
    "   \n",
    "   var divTag2 = document.getElementsByClassName(\"input\")[2]\n",
    "   var displaySetting2 = divTag2.style.display;\n",
    "   // Default display - set to 'none'.  To hide, set to 'none'.\n",
    "   divTag2.style.display = 'block';\n",
    "   //divTag2.style.display = 'none';\n",
    " \n",
    "    function toggleInput(i) { \n",
    "      var divTag = document.getElementsByClassName(\"input\")[i]\n",
    "      var displaySetting = divTag.style.display;\n",
    "     \n",
    "      if (displaySetting == 'block') { \n",
    "         divTag.style.display = 'none';\n",
    "       }\n",
    "      else { \n",
    "         divTag.style.display = 'block';\n",
    "       } \n",
    "  }  \n",
    "  </script>\n",
    "  <!-- <button onclick=\"javascript:toggleInput(0)\" class=\"button\">Show Code</button> -->\n",
    "\"\"\"\n",
    "h=HTML(baseCodeHide)\n",
    "\n",
    "\n",
    "display(h)\n",
    "print(\"Code above produced me...click Shows Code to see it.\")"
   ]
  },
  {
   "cell_type": "code",
   "execution_count": 2,
   "metadata": {},
   "outputs": [
    {
     "data": {
      "text/html": [
       "\n",
       "<style>\n",
       ".button {\n",
       "    background-color: #008CBA;;\n",
       "    border: none;\n",
       "    color: white;\n",
       "    padding: 8px 22px;\n",
       "    text-align: center;\n",
       "    text-decoration: none;\n",
       "    display: inline-block;\n",
       "    font-size: 16px;\n",
       "    margin: 4px 2px;\n",
       "    cursor: pointer;\n",
       "}\n",
       "</style>\n",
       " <script>\n",
       "   // Assume 3 input cells. Manage from here.\n",
       "   var divTag0 = document.getElementsByClassName(\"input\")[0]\n",
       "   var displaySetting0 = divTag0.style.display;\n",
       "   // Default display - set to 'none'.  To hide, set to 'block'.\n",
       "   // divTag0.style.display = 'block';\n",
       "   divTag0.style.display = 'none';\n",
       "   \n",
       "   var divTag1 = document.getElementsByClassName(\"input\")[1]\n",
       "   var displaySetting1 = divTag1.style.display;\n",
       "   // Default display - set to 'none'.  To hide, set to 'block'.\n",
       "      divTag1.style.display = 'block';\n",
       "   //divTag1.style.display = 'none';\n",
       "   \n",
       "   var divTag2 = document.getElementsByClassName(\"input\")[2]\n",
       "   var displaySetting2 = divTag2.style.display;\n",
       "   // Default display - set to 'none'.  To hide, set to 'none'.\n",
       "   divTag2.style.display = 'block';\n",
       "   //divTag2.style.display = 'none';\n",
       " \n",
       "    function toggleInput(i) { \n",
       "      var divTag = document.getElementsByClassName(\"input\")[i]\n",
       "      var displaySetting = divTag.style.display;\n",
       "     \n",
       "      if (displaySetting == 'block') { \n",
       "         divTag.style.display = 'none';\n",
       "       }\n",
       "      else { \n",
       "         divTag.style.display = 'block';\n",
       "       } \n",
       "  }  \n",
       "  </script>\n",
       "  <!-- <button onclick=\"javascript:toggleInput(0)\" class=\"button\">Show Code</button> -->\n"
      ],
      "text/plain": [
       "<IPython.core.display.HTML object>"
      ]
     },
     "metadata": {},
     "output_type": "display_data"
    },
    {
     "name": "stdout",
     "output_type": "stream",
     "text": [
      "Code above produced me...click Show Code to see it.\n"
     ]
    }
   ],
   "source": [
    "from IPython.display import HTML\n",
    "from IPython.display import display\n",
    "baseCodeHide=\"\"\"\n",
    "<style>\n",
    ".button {\n",
    "    background-color: #008CBA;;\n",
    "    border: none;\n",
    "    color: white;\n",
    "    padding: 8px 22px;\n",
    "    text-align: center;\n",
    "    text-decoration: none;\n",
    "    display: inline-block;\n",
    "    font-size: 16px;\n",
    "    margin: 4px 2px;\n",
    "    cursor: pointer;\n",
    "}\n",
    "</style>\n",
    " <script>\n",
    "   // Assume 3 input cells. Manage from here.\n",
    "   var divTag0 = document.getElementsByClassName(\"input\")[0]\n",
    "   var displaySetting0 = divTag0.style.display;\n",
    "   // Default display - set to 'none'.  To hide, set to 'block'.\n",
    "   // divTag0.style.display = 'block';\n",
    "   divTag0.style.display = 'none';\n",
    "   \n",
    "   var divTag1 = document.getElementsByClassName(\"input\")[1]\n",
    "   var displaySetting1 = divTag1.style.display;\n",
    "   // Default display - set to 'none'.  To hide, set to 'block'.\n",
    "      divTag1.style.display = 'block';\n",
    "   //divTag1.style.display = 'none';\n",
    "   \n",
    "   var divTag2 = document.getElementsByClassName(\"input\")[2]\n",
    "   var displaySetting2 = divTag2.style.display;\n",
    "   // Default display - set to 'none'.  To hide, set to 'none'.\n",
    "   divTag2.style.display = 'block';\n",
    "   //divTag2.style.display = 'none';\n",
    " \n",
    "    function toggleInput(i) { \n",
    "      var divTag = document.getElementsByClassName(\"input\")[i]\n",
    "      var displaySetting = divTag.style.display;\n",
    "     \n",
    "      if (displaySetting == 'block') { \n",
    "         divTag.style.display = 'none';\n",
    "       }\n",
    "      else { \n",
    "         divTag.style.display = 'block';\n",
    "       } \n",
    "  }  \n",
    "  </script>\n",
    "  <!-- <button onclick=\"javascript:toggleInput(0)\" class=\"button\">Show Code</button> -->\n",
    "\"\"\"\n",
    "h=HTML(baseCodeHide)\n",
    "\n",
    "\n",
    "display(h)\n",
    "print(\"Code above produced me...click Show Code to see it.\")\n",
    "\n",
    "from pandas import DataFrame, read_csv\n",
    "import pandas as pd #this is how I usually import pandas\n",
    "import matplotlib.pyplot as plt #for plot\n",
    "import nltk\n",
    "#read_csv?\n",
    "\n",
    "Location = r'../twitter_data/train2017.tsv'\n",
    "df = pd.read_csv(Location,delimiter = '\\t',names=['id','id2','tag','text'])\n",
    "\n",
    "Location_res = r'../twitter_data/test2017.tsv'\n",
    "df_res = pd.read_csv(Location_res,delimiter = '\\t',names=['id','id2','tag','text'])\n",
    "\n",
    "\n",
    "Location_cor = r'../twitter_data/SemEval2017_task4_subtaskA_test_english_gold.txt'\n",
    "df_cor = pd.read_csv(Location_cor,delimiter = '\\t',names=['id','tag'])\n"
   ]
  },
  {
   "cell_type": "code",
   "execution_count": 3,
   "metadata": {},
   "outputs": [],
   "source": [
    "import sklearn\n",
    "from sklearn.manifold import TSNE\n",
    "\n",
    "\n",
    "def tsne_plot(model):\n",
    "    \"Creates and TSNE model and plots it\"\n",
    "    labels = []\n",
    "    tokens = []\n",
    "    for word in model.wv.vocab:\n",
    "        tokens.append(model[word])\n",
    "        labels.append(word)\n",
    "    \n",
    "    tsne_model = TSNE(perplexity=40, n_components=2, init='pca', n_iter=2500, random_state=23)\n",
    "    new_values = tsne_model.fit_transform(tokens)\n",
    "\n",
    "    x = []\n",
    "    y = []\n",
    "\n",
    "    for value in new_values:\n",
    "        x.append(value[0])\n",
    "        y.append(value[1])\n",
    "    plt.figure(figsize=(16, 16)) \n",
    "    for i in range(len(x)):\n",
    "        plt.scatter(x[i],y[i])\n",
    "        plt.annotate(labels[i],\n",
    "                     xy=(x[i], y[i]),\n",
    "                     xytext=(5, 2),\n",
    "               textcoords='offset points',\n",
    "                         ha='right',\n",
    "                         va='bottom')\n",
    "    plt.show()\n",
    "\n",
    "#print(df.text.tolist())"
   ]
  },
  {
   "cell_type": "code",
   "execution_count": 4,
   "metadata": {},
   "outputs": [
    {
     "data": {
      "text/plain": [
       "(7727989, 10627300)"
      ]
     },
     "execution_count": 4,
     "metadata": {},
     "output_type": "execute_result"
    }
   ],
   "source": [
    "import gensim\n",
    "\n",
    "tokenized_tweet = df.text.apply(lambda x: x.split()) # tokenizing \n",
    "\n",
    "\n",
    "dirty_model = gensim.models.Word2Vec(\n",
    "            tokenized_tweet,\n",
    "            size=200, # desired no. of features/independent variables\n",
    "            window=5, # context window size\n",
    "            min_count=2,\n",
    "            sg = 1, # 1 for skip-gram model\n",
    "            hs = 0,\n",
    "            negative = 10, # for negative sampling\n",
    "            workers= 2, # no.of cores\n",
    "            seed = 34) \n",
    "\n",
    "dirty_model.train(tokenized_tweet, total_examples= len(df.text), epochs=20)\n"
   ]
  },
  {
   "cell_type": "code",
   "execution_count": null,
   "metadata": {},
   "outputs": [],
   "source": [
    "#tsne_plot(dirty_model)"
   ]
  },
  {
   "cell_type": "code",
   "execution_count": null,
   "metadata": {},
   "outputs": [
    {
     "name": "stderr",
     "output_type": "stream",
     "text": [
      "/home/john/Downloads/tion/lib/python2.7/site-packages/ipykernel_launcher.py:9: DeprecationWarning: Call to deprecated `wv` (Attribute will be removed in 4.0.0, use self instead).\n",
      "  if __name__ == '__main__':\n"
     ]
    }
   ],
   "source": [
    "tsne_plot(dirty_model.wv)"
   ]
  },
  {
   "cell_type": "code",
   "execution_count": null,
   "metadata": {},
   "outputs": [],
   "source": []
  },
  {
   "cell_type": "code",
   "execution_count": null,
   "metadata": {},
   "outputs": [],
   "source": []
  },
  {
   "cell_type": "code",
   "execution_count": null,
   "metadata": {},
   "outputs": [],
   "source": [
    "import numpy as np\n",
    "\n",
    "i = 0\n",
    "arr = []\n",
    "for line in df.text:\n",
    "    #print(line)\n",
    "    arr.append(np.zeros(200))\n",
    "    for word in line.split():\n",
    "        #print(word)\n",
    "        if word in dirty_model:\n",
    "            #print(word)\n",
    "            #print(embeddings_dict[word])\n",
    "            arr[i] += dirty_model[word] / len(line.split())\n",
    "        elif i > 0:\n",
    "            arr[i] += arr[i-1] / len(line.split())\n",
    "            \n",
    "    i=i+1\n",
    "\n",
    "print(arr[0])"
   ]
  },
  {
   "cell_type": "code",
   "execution_count": null,
   "metadata": {},
   "outputs": [],
   "source": [
    "i = 0\n",
    "arr_res = []\n",
    "for line in df_res.text:\n",
    "    arr_res.append(np.zeros(200))\n",
    "    for word in line.split():\n",
    "        #print(word)\n",
    "        if word in dirty_model:\n",
    "            #print(word)\n",
    "            #print(embeddings_dict[word])\n",
    "            arr_res[i] += dirty_model[word] / len(line.split())\n",
    "        elif i > 0:\n",
    "            arr_res[i] += arr_res[i] / len(line.split())\n",
    "            #print(\"not found \"+ word)\n",
    "    i=i+1\n",
    "\n",
    "print(arr_res[1])"
   ]
  },
  {
   "cell_type": "code",
   "execution_count": null,
   "metadata": {},
   "outputs": [],
   "source": [
    "from sklearn.neighbors import KNeighborsClassifier\n",
    "knn = KNeighborsClassifier(n_neighbors=3)\n",
    "x = arr\n",
    "y = df.tag\n",
    "knn.fit(x , y)"
   ]
  },
  {
   "cell_type": "code",
   "execution_count": null,
   "metadata": {},
   "outputs": [],
   "source": [
    "x_pred = arr_res\n",
    "y_pred = knn.predict(x_pred)"
   ]
  },
  {
   "cell_type": "code",
   "execution_count": null,
   "metadata": {},
   "outputs": [],
   "source": [
    "from sklearn import metrics\n",
    "print(metrics.accuracy_score(df_cor.tag, y_pred))"
   ]
  },
  {
   "cell_type": "code",
   "execution_count": null,
   "metadata": {},
   "outputs": [],
   "source": []
  }
 ],
 "metadata": {
  "kernelspec": {
   "display_name": "Python 2",
   "language": "python",
   "name": "python2"
  },
  "language_info": {
   "codemirror_mode": {
    "name": "ipython",
    "version": 2
   },
   "file_extension": ".py",
   "mimetype": "text/x-python",
   "name": "python",
   "nbconvert_exporter": "python",
   "pygments_lexer": "ipython2",
   "version": "2.7.15"
  }
 },
 "nbformat": 4,
 "nbformat_minor": 2
}
