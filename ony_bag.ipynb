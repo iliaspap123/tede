{
 "cells": [
  {
   "cell_type": "code",
   "execution_count": 1,
   "metadata": {},
   "outputs": [],
   "source": [
    "from pandas import DataFrame, read_csv\n",
    "import pandas as pd #this is how I usually import pandas\n",
    "import matplotlib.pyplot as plt #for plot\n",
    "import nltk\n",
    "#read_csv?\n",
    "Location = r'../twitter_data/train2017.tsv'\n",
    "df = pd.read_csv(Location,delimiter = '\\t',names=['id','id2','tag','text'])\n",
    "#df.text"
   ]
  },
  {
   "cell_type": "code",
   "execution_count": null,
   "metadata": {},
   "outputs": [],
   "source": []
  },
  {
   "cell_type": "code",
   "execution_count": 2,
   "metadata": {},
   "outputs": [],
   "source": [
    "from nltk.corpus import wordnet\n",
    "# Lemmatize with POS Tag\n",
    "def get_wordnet_pos(word):\n",
    "    \"\"\"Map POS tag to first character lemmatize() accepts\"\"\"\n",
    "    tag = nltk.pos_tag([word])[0][1][0].upper()\n",
    "    tag_dict = {\"J\": wordnet.ADJ,\n",
    "                \"N\": wordnet.NOUN,\n",
    "                \"V\": wordnet.VERB,\n",
    "                \"R\": wordnet.ADV}\n",
    "\n",
    "    return tag_dict.get(tag, wordnet.NOUN)\n",
    "\n",
    "def my_concat(mylist):\n",
    "    str = \"\"\n",
    "    for word in mylist:\n",
    "        str+= \" \"+word\n",
    "    return str\n",
    "\n",
    "from nltk.stem import  WordNetLemmatizer\n",
    "\n",
    "# 1. Init Lemmatizer\n",
    "lemmatizer = WordNetLemmatizer()\n",
    "\n",
    "\n",
    "# 3. Lemmatize a Sentence with the appropriate POS tag\n",
    "list_tweets = []\n",
    "for line in df.text:\n",
    "    kati = my_concat([lemmatizer.lemmatize(w, get_wordnet_pos(w)) for w in nltk.word_tokenize(line)])\n",
    "    list_tweets.append(kati)\n",
    "    #print(kati)\n",
    "    #list_tweets.append([lemmatizer.lemmatize(w, get_wordnet_pos(w)) for w in nltk.word_tokenize(line)])\n",
    "#print(list_tweets)"
   ]
  },
  {
   "cell_type": "code",
   "execution_count": 3,
   "metadata": {},
   "outputs": [],
   "source": [
    "from sklearn.feature_extraction.text import CountVectorizer\n",
    "import sys\n",
    "import numpy\n",
    "\n",
    "numpy.set_printoptions(threshold=sys.maxsize)\n",
    "bow_vectorizer = CountVectorizer( max_features=200, stop_words='english') \n",
    "bow_xtrain = bow_vectorizer.fit_transform(list_tweets)  #TWEETS : a list with the actual tweets \n",
    "#print(bow_xtrain.toarray())"
   ]
  },
  {
   "cell_type": "code",
   "execution_count": 4,
   "metadata": {},
   "outputs": [],
   "source": [
    "arr = bow_xtrain.toarray()\n",
    "#print(arr[0:10])"
   ]
  },
  {
   "cell_type": "code",
   "execution_count": 5,
   "metadata": {},
   "outputs": [
    {
     "name": "stdout",
     "output_type": "stream",
     "text": [
      "KNeighborsClassifier(algorithm='auto', leaf_size=30, metric='minkowski',\n",
      "           metric_params=None, n_jobs=None, n_neighbors=3, p=2,\n",
      "           weights='uniform')\n"
     ]
    }
   ],
   "source": [
    "from sklearn.neighbors import KNeighborsClassifier\n",
    "knn = KNeighborsClassifier(n_neighbors=3)\n",
    "print(knn)\n"
   ]
  },
  {
   "cell_type": "code",
   "execution_count": 6,
   "metadata": {},
   "outputs": [
    {
     "data": {
      "text/plain": [
       "KNeighborsClassifier(algorithm='auto', leaf_size=30, metric='minkowski',\n",
       "           metric_params=None, n_jobs=None, n_neighbors=3, p=2,\n",
       "           weights='uniform')"
      ]
     },
     "execution_count": 6,
     "metadata": {},
     "output_type": "execute_result"
    }
   ],
   "source": [
    "#print(df.tag[:10])\n",
    "iris_X = arr\n",
    "iris_Y = df.tag\n",
    "knn.fit(iris_X , iris_Y)\n",
    "#print(df.tag[2000:2010])"
   ]
  },
  {
   "cell_type": "code",
   "execution_count": 7,
   "metadata": {},
   "outputs": [],
   "source": [
    "# X_new = arr[10000:11000]\n",
    "# y_pred = knn.predict(X_new)"
   ]
  },
  {
   "cell_type": "code",
   "execution_count": 11,
   "metadata": {},
   "outputs": [],
   "source": [
    "from sklearn import metrics\n",
    "# iris = df.tag[10000:11000]\n",
    "# print(metrics.accuracy_score(iris, y_pred))"
   ]
  },
  {
   "cell_type": "code",
   "execution_count": 12,
   "metadata": {},
   "outputs": [],
   "source": [
    "Location = r'../twitter_data/test2017.tsv'\n",
    "df_res = pd.read_csv(Location,delimiter = '\\t',names=['id','id2','tag','text'])\n",
    "                 \n",
    "res_tweets = []\n",
    "for line_res in df_res.text:\n",
    "    res_tmp = my_concat([lemmatizer.lemmatize(w, get_wordnet_pos(w)) for w in nltk.word_tokenize(line_res)])\n",
    "    res_tweets.append(res_tmp)\n",
    "                     \n",
    "numpy.set_printoptions(threshold=sys.maxsize)\n",
    "bow_vectorizer2 = CountVectorizer( max_features=200, stop_words='english') \n",
    "bow_xtrain2 = bow_vectorizer.fit_transform(res_tweets)\n",
    "                     \n",
    "res_arr = bow_xtrain2.toarray()\n"
   ]
  },
  {
   "cell_type": "code",
   "execution_count": 13,
   "metadata": {},
   "outputs": [
    {
     "name": "stdout",
     "output_type": "stream",
     "text": [
      "0.40117225659394334\n"
     ]
    }
   ],
   "source": [
    "result = knn.predict(res_arr)\n",
    "Location = r'../twitter_data/SemEval2017_task4_subtaskA_test_english_gold.txt'\n",
    "df_cor = pd.read_csv(Location,delimiter = '\\t',names=['id','tag'])\n",
    "print(metrics.accuracy_score(result, df_cor.tag))"
   ]
  },
  {
   "cell_type": "code",
   "execution_count": null,
   "metadata": {},
   "outputs": [],
   "source": []
  },
  {
   "cell_type": "code",
   "execution_count": null,
   "metadata": {},
   "outputs": [],
   "source": []
  }
 ],
 "metadata": {
  "kernelspec": {
   "display_name": "Python 3",
   "language": "python",
   "name": "python3"
  },
  "language_info": {
   "codemirror_mode": {
    "name": "ipython",
    "version": 3
   },
   "file_extension": ".py",
   "mimetype": "text/x-python",
   "name": "python",
   "nbconvert_exporter": "python",
   "pygments_lexer": "ipython3",
   "version": "3.7.1"
  }
 },
 "nbformat": 4,
 "nbformat_minor": 2
}
